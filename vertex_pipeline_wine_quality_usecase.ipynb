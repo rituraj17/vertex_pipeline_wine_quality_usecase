{
 "cells": [
  {
   "cell_type": "markdown",
   "metadata": {},
   "source": [
    "### Usecase : MLOps Pipeline to train and predict the quality of wine by using the GCP vertex AI platform\n",
    "We will be taking a very common and well-known use case which is to \"Predict the wine quality\". \n",
    "The data is downloaded from UCI Machine Learning Repository @source [Cortez et al., 2009].\n",
    "We are going to use a common supervised machine-learning algorithm such as Random Forest.\n",
    "For a detailed description of the use cases please do take a look at the Wine Quality Kaggle page[https://www.kaggle.com/datasets/rajyellow46/wine-quality]."
   ]
  },
  {
   "cell_type": "markdown",
   "metadata": {},
   "source": [
    "# Pre-requisite Environment setup"
   ]
  },
  {
   "cell_type": "code",
   "execution_count": null,
   "metadata": {},
   "outputs": [],
   "source": [
    "# Enable the Below  GCP services APIs if not enabled \n",
    "!gcloud services enable compute.googleapis.com         \\\n",
    "                       containerregistry.googleapis.com  \\\n",
    "                       aiplatform.googleapis.com  \\\n",
    "                       cloudbuild.googleapis.com \\\n",
    "                       cloudfunctions.googleapis.com"
   ]
  },
  {
   "cell_type": "code",
   "execution_count": null,
   "metadata": {},
   "outputs": [],
   "source": [
    "# Install the Kubeflow and GCP AI platform libraries and components if not installed.\n",
    "USER_FLAG = \"--user\"\n",
    "# Install ai platform and kfp\n",
    "!pip3 install {USER_FLAG} google-cloud-aiplatform --upgrade\n",
    "!pip3 install {USER_FLAG} kfp --upgrade\n",
    "!pip3 install google_cloud_pipeline_components"
   ]
  },
  {
   "cell_type": "code",
   "execution_count": null,
   "metadata": {},
   "outputs": [],
   "source": [
    "# Setup global variables\n",
    "import os\n",
    "# Enter your GCP project id \n",
    "PROJECT_ID = \"xxxx\"\n",
    "# Enter your GCP Bucket name \n",
    "BUCKET_NAME=\"xxxx\"\n",
    "GCS_BUCKET_NAME=f\"gs://{BUCKET_NAME}\"\n",
    "\n",
    "# Enter the region where you want to deploy the Vertex pipeline servoces\n",
    "REGION=\"xxxx\"\n",
    "\n",
    "PIPELINE_ROOT = f\"{GCS_BUCKET_NAME}/pipeline_root/\"\n",
    "PIPELINE_ROOT"
   ]
  },
  {
   "cell_type": "code",
   "execution_count": null,
   "metadata": {},
   "outputs": [],
   "source": [
    "# Import-Packages\n",
    "from typing import NamedTuple\n",
    "from kfp.v2 import dsl\n",
    "from kfp.v2.dsl import (Artifact,\n",
    "                        Dataset,\n",
    "                        Input,\n",
    "                        Model,\n",
    "                        Output,\n",
    "                        Metrics,\n",
    "                        ClassificationMetrics,\n",
    "                        component, \n",
    "                        OutputPath, \n",
    "                        InputPath)\n",
    "\n",
    "from kfp.v2 import compiler\n",
    "from google.cloud.aiplatform import pipeline_jobs"
   ]
  },
  {
   "cell_type": "markdown",
   "metadata": {},
   "source": [
    "# load the wine data "
   ]
  },
  {
   "cell_type": "code",
   "execution_count": null,
   "metadata": {},
   "outputs": [],
   "source": [
    "@component(\n",
    "    packages_to_install=[\"pandas\", \"pyarrow\",  \"sklearn\"],\n",
    "    base_image=\"python:3.9\",\n",
    "    output_component_file=\"get_wine_data.yaml\"\n",
    ")\n",
    "\n",
    "def get_wine_data(\n",
    "    url: str,\n",
    "    dataset_train: Output[Dataset],\n",
    "    dataset_test: Output[Dataset],\n",
    "    kpi_ouput: Output[Metrics]\n",
    ")-> NamedTuple(\"output\", [(\"train\", int),(\"test\",int)]):\n",
    "    import pandas as pd\n",
    "    import numpy as np\n",
    "    from sklearn.model_selection import train_test_split as tts\n",
    "    \n",
    "    df_wine = pd.read_csv(url, delimiter=\";\")\n",
    "    df_wine['best_quality'] = [ 1 if x>=7 else 0 for x in df_wine.quality] \n",
    "    df_wine['target'] = df_wine.best_quality\n",
    "    df_wine = df_wine.drop(['quality', 'total sulfur dioxide', 'best_quality'], axis=1)\n",
    "   \n",
    "   \n",
    "    train, test = tts(df_wine, test_size=0.3)\n",
    "    train.to_csv(dataset_train.path + \".csv\" , index=False, encoding='utf-8-sig')\n",
    "    test.to_csv(dataset_test.path + \".csv\" , index=False, encoding='utf-8-sig')\n",
    "    kpi_ouput.log_metric(\"train_data_size\", int(train.shape[0]))\n",
    "    kpi_ouput.log_metric(\"test_data_size\", int(test.shape[0]))\n",
    "    return ((train.shape[0]),(test.shape[0]))"
   ]
  },
  {
   "cell_type": "markdown",
   "metadata": {},
   "source": [
    "# train the model"
   ]
  },
  {
   "cell_type": "code",
   "execution_count": null,
   "metadata": {},
   "outputs": [],
   "source": [
    "@component(\n",
    "    packages_to_install = [\n",
    "        \"pandas\",\n",
    "        \"sklearn\",\n",
    "    ], base_image=\"python:3.9\",\n",
    ")\n",
    "def train_wine_quality(\n",
    "    dataset:  Input[Dataset],\n",
    "    model: Output[Model], \n",
    "):\n",
    "    \n",
    "    from sklearn.ensemble import RandomForestClassifier\n",
    "    import pandas as pd\n",
    "    import pickle\n",
    "\n",
    "    data = pd.read_csv(dataset.path+\".csv\")\n",
    "    model_rf = RandomForestClassifier(n_estimators=10)\n",
    "    model_rf.fit(\n",
    "        data.drop(columns=[\"target\"]),\n",
    "        data.target,\n",
    "    )\n",
    "    model.metadata[\"framework\"] = \"RF\"\n",
    "    file_name = model.path + f\".pkl\"\n",
    "    with open(file_name, 'wb') as file:  \n",
    "        pickle.dump(model_rf, file)"
   ]
  },
  {
   "cell_type": "markdown",
   "metadata": {},
   "source": [
    "# Evaluate the model"
   ]
  },
  {
   "cell_type": "code",
   "execution_count": null,
   "metadata": {},
   "outputs": [],
   "source": [
    "@component(\n",
    "    packages_to_install = [\n",
    "        \"pandas\",\n",
    "        \"sklearn\"\n",
    "    ], base_image=\"python:3.9\",\n",
    ")\n",
    "def wine_quality_evaluation(\n",
    "    test_set:  Input[Dataset],\n",
    "    rf_winequality_model: Input[Model],\n",
    "    thresholds_dict_str: str,\n",
    "    metrics: Output[ClassificationMetrics],\n",
    "    kpi: Output[Metrics]\n",
    ") -> NamedTuple(\"output\", [(\"deploy\", str)]):\n",
    "\n",
    "    from sklearn.ensemble import RandomForestClassifier\n",
    "    import pandas as pd\n",
    "    import pickle\n",
    "    from sklearn.metrics import roc_curve, confusion_matrix, accuracy_score\n",
    "    import json\n",
    "\n",
    "    \n",
    "    def threshold_check(val1, val2):\n",
    "        cond = \"false\"\n",
    "        if val1 >= val2 :\n",
    "            cond = \"true\"\n",
    "        return cond\n",
    "\n",
    "    data = pd.read_csv(test_set.path+\".csv\")\n",
    "    model = RandomForestClassifier()\n",
    "    file_name = rf_winequality_model.path + \".pkl\"\n",
    "    with open(file_name, 'rb') as file:  \n",
    "        model = pickle.load(file)\n",
    "    \n",
    "    y_test = data.drop(columns=[\"target\"])\n",
    "    y_target=data.target\n",
    "    y_pred = model.predict(y_test)\n",
    "    \n",
    "\n",
    "    y_scores =  model.predict_proba(data.drop(columns=[\"target\"]))[:, 1]\n",
    "    fpr, tpr, thresholds = roc_curve(\n",
    "         y_true=data.target.to_numpy(), y_score=y_scores, pos_label=True\n",
    "    )\n",
    "    metrics.log_roc_curve(fpr.tolist(), tpr.tolist(), thresholds.tolist())  \n",
    "    \n",
    "    metrics.log_confusion_matrix(\n",
    "       [\"False\", \"True\"],\n",
    "       confusion_matrix(\n",
    "           data.target, y_pred\n",
    "       ).tolist(), \n",
    "    )\n",
    "    \n",
    "    accuracy = accuracy_score(data.target, y_pred.round())\n",
    "    thresholds_dict = json.loads(thresholds_dict_str)\n",
    "    rf_winequality_model.metadata[\"accuracy\"] = float(accuracy)\n",
    "    kpi.log_metric(\"accuracy\", float(accuracy))\n",
    "    kpi.log_metric(\"thresholds\", float(thresholds_dict['roc']))\n",
    "    deploy = threshold_check(float(accuracy), float(thresholds_dict['roc']))\n",
    "    return (deploy,)"
   ]
  },
  {
   "cell_type": "markdown",
   "metadata": {},
   "source": [
    "# deploy the model"
   ]
  },
  {
   "cell_type": "code",
   "execution_count": null,
   "metadata": {},
   "outputs": [],
   "source": [
    "@component(\n",
    "    packages_to_install=[\"google-cloud-aiplatform\", \"scikit-learn==1.0.0\",  \"kfp\"],\n",
    "    base_image=\"python:3.9\",\n",
    "    output_component_file=\"model_wine_quality_component.yml\"\n",
    ")\n",
    "def deploy_winequality(\n",
    "    model: Input[Model],\n",
    "    project: str,\n",
    "    region: str,\n",
    "    serving_container_image_uri : str, \n",
    "    vertex_endpoint: Output[Artifact],\n",
    "    vertex_model: Output[Model]\n",
    "):\n",
    "    from google.cloud import aiplatform\n",
    "    aiplatform.init(project=project, location=region)\n",
    "\n",
    "    DISPLAY_NAME  = \"wine-quality\"\n",
    "    MODEL_NAME = \"wine-quality-rf\"\n",
    "    ENDPOINT_NAME = \"wine_quality_endpoint\"\n",
    "    \n",
    "    def create_endpoint():\n",
    "        endpoints = aiplatform.Endpoint.list(\n",
    "        filter='display_name=\"{}\"'.format(ENDPOINT_NAME),\n",
    "        order_by='create_time desc',\n",
    "        project=project, \n",
    "        location=region,\n",
    "        )\n",
    "        if len(endpoints) > 0:\n",
    "            endpoint = endpoints[0]  # most recently created\n",
    "        else:\n",
    "            endpoint = aiplatform.Endpoint.create(\n",
    "            display_name=ENDPOINT_NAME, project=project, location=region\n",
    "        )\n",
    "        return endpoint\n",
    "    endpoint = create_endpoint()   \n",
    "    \n",
    "    \n",
    "    #Import a model programmatically\n",
    "    # ile_name = rf_winequality_model.path + \".pkl\"\n",
    "    model_upload = aiplatform.Model.upload(\n",
    "        display_name = DISPLAY_NAME, \n",
    "        artifact_uri = model.uri.replace(\"model\", \"\"),\n",
    "        # artifact_uri=model.path + \".pkl\",\n",
    "        serving_container_image_uri =  serving_container_image_uri,\n",
    "        serving_container_health_route=f\"/v1/models/{MODEL_NAME}\",\n",
    "        serving_container_predict_route=f\"/v1/models/{MODEL_NAME}:predict\",\n",
    "        serving_container_environment_variables={\n",
    "        \"MODEL_NAME\": MODEL_NAME,\n",
    "    },       \n",
    "    )\n",
    "    model_deploy = model_upload.deploy(\n",
    "        machine_type=\"n1-standard-4\", \n",
    "        endpoint=endpoint,\n",
    "        traffic_split={\"0\": 100},\n",
    "        deployed_model_display_name=DISPLAY_NAME,\n",
    "    )\n",
    "\n",
    "    # Save data to the output params\n",
    "    vertex_model.uri = model_deploy.resource_name"
   ]
  },
  {
   "cell_type": "markdown",
   "metadata": {},
   "source": [
    "# Create the pipeline"
   ]
  },
  {
   "cell_type": "code",
   "execution_count": null,
   "metadata": {},
   "outputs": [],
   "source": [
    "from datetime import datetime\n",
    "TIMESTAMP =datetime.now().strftime(\"%Y%m%d%H%M%S\")\n",
    "DISPLAY_NAME = 'pipeline-wine-quality-job-{}'.format(TIMESTAMP)\n",
    "\n",
    "@dsl.pipeline(\n",
    "    # Default pipeline root. You can override it when submitting the pipeline.\n",
    "    pipeline_root=PIPELINE_ROOT,\n",
    "    # A name for the pipeline. Use to determine the pipeline Context.\n",
    "    name=\"pipeline-wine-quality-job\",\n",
    "    \n",
    ")\n",
    "def pipeline(\n",
    "    url: str = \"http://archive.ics.uci.edu/ml/machine-learning-databases/wine-quality/winequality-white.csv\",\n",
    "    project: str = PROJECT_ID,\n",
    "    region: str = REGION, \n",
    "    display_name: str = DISPLAY_NAME,\n",
    "    api_endpoint: str = REGION+\"-aiplatform.googleapis.com\",\n",
    "    thresholds_dict_str: str = '{\"roc\":0.95}',\n",
    "    serving_container_image_uri: str = \"asia-docker.pkg.dev/vertex-ai/prediction/sklearn-cpu.0-24:latest\"\n",
    "    ):\n",
    "    \n",
    "    data_op = get_wine_data(url)\n",
    "    train_model_op = train_wine_quality(data_op.outputs[\"dataset_train\"])\n",
    "    model_evaluation_op = wine_quality_evaluation(\n",
    "        test_set=data_op.outputs[\"dataset_test\"],\n",
    "        rf_winequality_model=train_model_op.outputs[\"model\"],\n",
    "        thresholds_dict_str = thresholds_dict_str, # I deploy the model anly if the model performance is above the threshold\n",
    "    )\n",
    "    \n",
    "    with dsl.Condition(\n",
    "        model_evaluation_op.outputs[\"deploy\"]==\"true\",\n",
    "        name=\"deploy-wine-quality\",\n",
    "    ):\n",
    "           \n",
    "        deploy_model_op = deploy_winequality(\n",
    "        model=train_model_op.outputs[\"model\"],\n",
    "        project=project,\n",
    "        region=region, \n",
    "        serving_container_image_uri = serving_container_image_uri,\n",
    "        )"
   ]
  },
  {
   "cell_type": "code",
   "execution_count": null,
   "metadata": {},
   "outputs": [],
   "source": [
    "compiler.Compiler().compile(pipeline_func=pipeline,\n",
    "        package_path='pipeline-wine-quality-job.json')"
   ]
  },
  {
   "cell_type": "code",
   "execution_count": null,
   "metadata": {},
   "outputs": [],
   "source": [
    "start_pipeline = pipeline_jobs.PipelineJob(\n",
    "    display_name=\"pipeline-wine-quality-job\",\n",
    "    template_path=\"pipeline-wine-quality-job.json\",\n",
    "    pipeline_root=PIPELINE_ROOT,\n",
    "    project=PROJECT_ID,\n",
    "    enable_caching=True,\n",
    "    location=REGION,\n",
    ")\n",
    "start_pipeline.submit()"
   ]
  },
  {
   "cell_type": "markdown",
   "metadata": {},
   "source": [
    "# Prediction sample results"
   ]
  },
  {
   "cell_type": "code",
   "execution_count": null,
   "metadata": {},
   "outputs": [],
   "source": [
    "! gcloud ai endpoints list --region=\"asia-northeast1\" --filter=\"wine_quality_endpoint\"\n"
   ]
  },
  {
   "cell_type": "code",
   "execution_count": null,
   "metadata": {},
   "outputs": [],
   "source": [
    "# Wine Quality metrices : 0 - bad quality ,1 - Good quality]\n",
    "\n",
    "#sample input list for prediction data\n",
    "instance = [[1,2,3,2,1,2,3,6,7,10],[5.0,0.42,0.24,2.0,0.06,19.0,0.9917,3.72,0.74,14.0],[6.2,0.660,0.48,1.2,0.029,29.0,0.98920,3.33,0.39,12.8],[7.9,0.35,0.46,3.6,0.078,15.0,0.99730,3.35,0.86,12.8]]\n",
    "\n",
    "# Deployed Model Endpoint\n",
    "endpoint_id=\"xxxx\"\n",
    "# Location/region where the endpoint is deployed \n",
    "location=\"xxxx\"\n",
    "# GCP Project ID\n",
    "PROJECT_ID=\"xxxx\"\n",
    "\n",
    "from google.cloud import aiplatform\n",
    "def endpoint_predict(\n",
    "    project: str, location: str, instances: list, endpoint: str\n",
    "):\n",
    "    aiplatform.init(project=project, location=location)\n",
    "\n",
    "    endpoint = aiplatform.Endpoint(endpoint)\n",
    "\n",
    "    prediction = endpoint.predict(instances=instances)\n",
    "    return prediction\n",
    "\n",
    "endpoint_predict(PROJECT_ID, location, instance, endpoint_id)"
   ]
  }
 ],
 "metadata": {
  "interpreter": {
   "hash": "916dbcbb3f70747c44a77c7bcd40155683ae19c65e1c03b4aa3499c5328201f1"
  },
  "kernelspec": {
   "display_name": "Python 3.8.10 64-bit",
   "language": "python",
   "name": "python3"
  },
  "language_info": {
   "codemirror_mode": {
    "name": "ipython",
    "version": 3
   },
   "file_extension": ".py",
   "mimetype": "text/x-python",
   "name": "python",
   "nbconvert_exporter": "python",
   "pygments_lexer": "ipython3",
   "version": "3.8.10"
  },
  "orig_nbformat": 4
 },
 "nbformat": 4,
 "nbformat_minor": 2
}
